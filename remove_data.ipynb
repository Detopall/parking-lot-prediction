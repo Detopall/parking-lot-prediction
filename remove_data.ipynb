{
 "cells": [
  {
   "cell_type": "markdown",
   "metadata": {},
   "source": [
    "## Removal of data"
   ]
  },
  {
   "cell_type": "markdown",
   "metadata": {},
   "source": [
    "This section will only be able to run if you have not tampered with the data folder. If  you have, just remove the data folder manually. We will be removing the data folder and all its contents excluding some images of the test folder."
   ]
  },
  {
   "cell_type": "code",
   "execution_count": 2,
   "metadata": {},
   "outputs": [],
   "source": [
    "# removing folders\n",
    "\n",
    "import os\n",
    "import shutil\n",
    "\n",
    "folders = [\n",
    "    \"data/labels-xml\",\n",
    "    \"data/PKLot\",\n",
    "    \"data/train\",\n",
    "    \"data/val\",\n",
    "    \"data/archive.zip\",\n",
    "    \"data/total-content\",\n",
    "]\n",
    "\n",
    "for folder in folders:\n",
    "\tif os.path.exists(folder):\n",
    "\t\tif os.path.isdir(folder):\n",
    "\t\t\tshutil.rmtree(folder)\n",
    "\telse:\n",
    "\t\tos.remove(folder)"
   ]
  },
  {
   "cell_type": "code",
   "execution_count": 5,
   "metadata": {},
   "outputs": [],
   "source": [
    "import random\n",
    "\n",
    "images_directory = \"./data/test/images\"\n",
    "labels_directory = \"./data/test/labels\"\n",
    "total_images = 30\n",
    "image_files = [f for f in os.listdir(images_directory) if f.lower().endswith(\".jpg\")]\n",
    "random_selected_images = random.sample(image_files, total_images)\n",
    "\n",
    "for image_filename in os.listdir(images_directory):\n",
    "    image_path = os.path.join(images_directory, image_filename)\n",
    "    if image_filename not in random_selected_images:\n",
    "        os.remove(image_path)\n",
    "\n",
    "\n",
    "for label_filename in os.listdir(labels_directory):\n",
    "\tlabel_path = os.path.join(labels_directory, label_filename)\n",
    "\tif label_filename not in random_selected_images:\n",
    "\t\tos.remove(label_path)\n",
    "\n",
    "\n",
    "# remove empty labels folder\n",
    "if len(os.listdir(labels_directory)) == 0:\n",
    "\tos.rmdir(labels_directory)"
   ]
  }
 ],
 "metadata": {
  "kernelspec": {
   "display_name": "parking-lot-prediction-FNjf05as",
   "language": "python",
   "name": "python3"
  },
  "language_info": {
   "codemirror_mode": {
    "name": "ipython",
    "version": 3
   },
   "file_extension": ".py",
   "mimetype": "text/x-python",
   "name": "python",
   "nbconvert_exporter": "python",
   "pygments_lexer": "ipython3",
   "version": "3.11.4"
  },
  "orig_nbformat": 4
 },
 "nbformat": 4,
 "nbformat_minor": 2
}
